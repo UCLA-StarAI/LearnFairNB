{
 "metadata": {
  "name": "",
  "signature": "sha256:18938a9221b742b2f7b4267fff81d2771384abc6c99fba2e7385d073c911e5b7"
 },
 "nbformat": 3,
 "nbformat_minor": 0,
 "worksheets": [
  {
   "cells": [
    {
     "cell_type": "markdown",
     "metadata": {},
     "source": [
      "# WIND"
     ]
    },
    {
     "cell_type": "code",
     "collapsed": false,
     "input": [
      "import gpkit\n",
      "import gpkit.interactive\n",
      "gpkit.interactive.init_printing()\n",
      "\n",
      "%matplotlib inline\n",
      "import numpy as np\n",
      "import matplotlib.pyplot as plt"
     ],
     "language": "python",
     "metadata": {},
     "outputs": [],
     "prompt_number": 2
    },
    {
     "cell_type": "markdown",
     "metadata": {},
     "source": [
      "## Maximizing Differential Power"
     ]
    },
    {
     "cell_type": "code",
     "collapsed": false,
     "input": [
      "var = gpkit.Variable\n",
      "vec = gpkit.VectorVariable\n",
      "\n",
      "dCpdy = var(\"\\\\frac{dC_P}{dy}\")\n",
      "a = var(\"a\")\n",
      "b = var(\"b\")\n",
      "lam = var(\"\\\\lambda\")\n",
      "s = var(\"s\")\n",
      "xi = var(\"\\\\xi\")\n",
      "F = var(\"F\")\n",
      "y = var(\"y\")\n",
      "eps = var(\"\\\\epsilon\")"
     ],
     "language": "python",
     "metadata": {},
     "outputs": [],
     "prompt_number": 3
    },
    {
     "cell_type": "code",
     "collapsed": false,
     "input": [
      "gp = gpkit.GP(1/dCpdy,\n",
      "              [1 >= a + b,\n",
      "               2*a*b >= s*lam*y + s*xi,\n",
      "               xi**2 >= (lam*y)**2 + 4*a*b,\n",
      "               s*b >= dCpdy/(8*lam*y**2*F) + eps*a*b],\n",
      "              {F: 1, y: 0.75, eps: 1.0/30.0})\n",
      "gp"
     ],
     "language": "python",
     "metadata": {},
     "outputs": [
      {
       "latex": [
        "$$\\begin{array}[ll]\n",
        "\\text{}\n",
        "\\text{minimize}\n",
        "    & \\frac{1}{\\frac{dC_P}{dy}} \\\\\n",
        "\\text{subject to}\n",
        "    & 1 \\geq a + b \\\\\n",
        "    & 2a b \\geq \\lambda s y + s \\xi \\\\\n",
        "    & \\xi^{2} \\geq 4a b + \\lambda^{2} y^{2} \\\\\n",
        "    & b s \\geq 0.125\\frac{\\frac{dC_P}{dy}}{\\lambda F y^{2}} + a b \\epsilon \\\\\n",
        "\\text{substituting}\n",
        "    & F = 1 \\\\\n",
        "    & \\epsilon = 0.03333 \\\\\n",
        "    & y = 0.75 \\\\\n",
        "\\end{array}$$"
       ],
       "metadata": {},
       "output_type": "pyout",
       "prompt_number": 4,
       "text": [
        "                               gpkit.GP( # minimize                           \n",
        "                                    \\frac{dC_P}{dy}**-1,                      \n",
        "                                      [   # subject to                        \n",
        "                                          1 >= a + b,                         \n",
        "                                 2*a*b >= \\lambda*s*y + s*\\xi,                \n",
        "                               \\xi**2 >= 4*a*b + \\lambda**2*y**2,             \n",
        "              b*s >= 0.12*\\frac{dC_P}{dy}*\\lambda**-1*F**-1*y**-2 + a*b*\\epsil\n",
        "                                             ],                               \n",
        "              substitutions={ y: 0.75, F: 1, \\epsilon: 0.03333333333333333 }, \n",
        "                                      solver=\"cvxopt\")                        \n",
        "\n",
        "   \n",
        "   \n",
        "   \n",
        "   \n",
        "   \n",
        "   \n",
        "on,\n",
        "   \n",
        "   \n",
        "   "
       ]
      }
     ],
     "prompt_number": 4
    },
    {
     "cell_type": "code",
     "collapsed": false,
     "input": [
      "print gp.solve().table()"
     ],
     "language": "python",
     "metadata": {},
     "outputs": [
      {
       "output_type": "stream",
       "stream": "stdout",
       "text": [
        "Using solver 'cvxopt'\n",
        "Solving took 0.0341 seconds\n",
        "    1.3203 : Cost\n",
        "           | Free variables\n",
        "\\frac{dC_P}{dy} : 0.757    [-] \n",
        "   \\lambda : 2.57     [-] \n",
        "       \\xi : 2.14     [-] \n",
        "         a : 0.315    [-] \n",
        "         b : 0.685    [-] \n",
        "         s : 0.106    [-] \n",
        "           |\n",
        "           | Constants\n",
        "         F : 1        [-] \n",
        "  \\epsilon : 0.0333   [-] \n",
        "         y : 0.75     [-] \n",
        "           |\n",
        "           | Constant sensitivities\n",
        "         F : -1       [-] \n",
        "  \\epsilon : 0.11     [-] \n",
        "         y : -1       [-] \n",
        "           |\n"
       ]
      }
     ],
     "prompt_number": 5
    },
    {
     "cell_type": "markdown",
     "metadata": {},
     "source": [
      "## Maximizing Total Power"
     ]
    },
    {
     "cell_type": "code",
     "collapsed": false,
     "input": [
      "B = 3\n",
      "N = 10\n",
      "\n",
      "f = var(\"f\")\n",
      "pi = var(\"\\\\pi\", np.pi)\n",
      "DCp = var(\"(\\Delta C_P)\")\n",
      "xi = vec(N, \"\\\\xi\")\n",
      "zeta = vec(N, \"\\\\zeta\")\n",
      "y = vec(N, \"y\")\n",
      "dy = vec(N, \"(\\Delta y)\")\n",
      "lam = var(\"\\\\lambda\", ('sweep', np.linspace(0.01, 8, 20)))\n",
      "\n",
      "constraints = [1 >= a + b,\n",
      "               2*a*b >= s*lam*y + s*xi,\n",
      "               xi**2 >= (lam*y)**2 + 4*a*b,\n",
      "               s*b >= DCp/(8*lam*dy**2*F) + eps*a*b]\n",
      "\n",
      "constraints += [ y[-1] + dy[-1]/2 <= 1,\n",
      "                [y[i] + dy[i]/2 + dy[i+1]/2 <= y[i+1] for i in range(N-1)],\n",
      "                 #B*zeta[0]/(2*pi) + dy[0]/2 <= y[0],#switch0\n",
      "                 dy[0]/2 <= y[0],#switch0\n",
      "                 1/y >= 1 + 2*f*s/(B*a),\n",
      "                 1 >= F**1.56 + 1.655*F**5.51*f**-2.76   ]\n",
      "\n",
      "sol = gpkit.GP(1/(N*DCp), constraints, {eps: ('sweep', [0.2, 0.1, 0.05, 0.033])}).solve('mosek')\n",
      "print sol.table()"
     ],
     "language": "python",
     "metadata": {},
     "outputs": [
      {
       "output_type": "stream",
       "stream": "stdout",
       "text": [
        "Using solver 'mosek'\n",
        "Sweeping 2 variables over 80 passes\n",
        "Solving took 3.87 seconds"
       ]
      },
      {
       "output_type": "stream",
       "stream": "stdout",
       "text": [
        "\n",
        "    92.607 : Cost (average of 80 values)\n",
        "           | Free variables (average)\n",
        "(\\Delta C_P) : 0.0047   [-] \n",
        "(\\Delta y) : 0.0726   [-] \n",
        "         F : 0.859    [-] \n",
        "       \\xi : 2.4      [-] \n",
        "         a : 0.298    [-] \n",
        "         b : 0.702    [-] \n",
        "         f : 2.95     [-] \n",
        "         s : 0.123    [-] \n",
        "         y : 0.363    [-] \n",
        "           |\n",
        "           | Constants (average)\n",
        "  \\epsilon : 0.0958   [-] \n",
        "   \\lambda : 4        [-] \n",
        "           |\n",
        "           | Constant sensitivities (average)\n",
        "  \\epsilon : 0.526    [-] \n",
        "   \\lambda : 0.179    [-] \n",
        "           |\n"
       ]
      }
     ],
     "prompt_number": 6
    },
    {
     "cell_type": "markdown",
     "metadata": {},
     "source": [
      "# Plotting $C_P$ vs $\\Lambda$"
     ]
    },
    {
     "cell_type": "code",
     "collapsed": false,
     "input": [
      "B = 3\n",
      "N = 20\n",
      "Nlams = 20\n",
      "\n",
      "f = var(\"f\")\n",
      "pi = var(\"\\\\pi\", np.pi)\n",
      "DCp = var(\"(\\Delta C_P)\")\n",
      "xi = vec(N, \"\\\\xi\")\n",
      "zeta = vec(N, \"\\\\zeta\")\n",
      "y = vec(N, \"y\")\n",
      "dy = vec(N, \"(\\Delta y)\")\n",
      "lam = var(\"\\\\lambda\", ('sweep', np.linspace(0.01, 8, Nlams)))\n",
      "\n",
      "constraints = [1 >= a + b,\n",
      "               2*a*b >= s*lam*y + s*xi,\n",
      "               xi**2 >= (lam*y)**2 + 4*a*b,\n",
      "               s*b >= DCp/(8*lam*dy**2*F*N/1.7) + eps*a*b]\n",
      "\n",
      "constraints += [ y[-1] + dy[-1]/2 <= 1,\n",
      "                [y[i] + dy[i]/2 + dy[i+1]/2 <= y[i+1] for i in range(N-1)],\n",
      "                 #B*zeta[0]/(2*pi) + dy[0]/2 <= y[0],#switch0\n",
      "                 dy[0]/2 <= y[0],#switch0\n",
      "                 1/y >= 1 + 2*f*s/(B*a),\n",
      "                 1 >= F**1.56 + 1.655*F**5.51*f**-2.76   ]\n",
      "\n",
      "sol = gpkit.GP(1/(N*DCp), constraints, {eps: ('sweep', [0.2, 0.1, 0.05, 0.033])}).solve('mosek')\n",
      "\n",
      "plt.plot(sol(lam).reshape(4, Nlams).T, sol(N*DCp).reshape(4, Nlams).T, '--', linewidth=1.5)\n",
      "plt.gca().set_color_cycle(None)\n",
      "Fsub = sol(F)\n",
      "lamsub = sol(lam)\n",
      "epssub = sol(eps)\n",
      "\n",
      "##\n",
      "\n",
      "lams = []\n",
      "NDCps = []\n",
      "for j in range(Fsub.size):\n",
      "    lam = var(\"\\\\lambda\", lamsub[j])\n",
      "\n",
      "    constraints = [1 >= a + b,\n",
      "                   2*a*b >= s*lam*y + s*xi,\n",
      "                   xi**2 >= (lam*y)**2 + 4*a*b,\n",
      "                   s*b >= DCp/(8*lam*dy**2*F*N/1.7) + eps*a*b]\n",
      "\n",
      "    constraints += [ y[-1] + dy[-1]/2 <= 1,\n",
      "                    [y[i] + dy[i]/2 + dy[i+1]/2 <= y[i+1] for i in range(N-1)],\n",
      "                     #B*zeta[0]/(2*pi) + dy[0]/2 <= y[0],#switch0\n",
      "                     dy[0]/2 <= y[0],#switch0\n",
      "                    ]\n",
      "\n",
      "    sol = gpkit.GP(1/(N*DCp), constraints, {F: Fsub[j], eps: epssub[j]}).solve('mosek', printing=False)\n",
      "    \n",
      "    lams.append(sol(lam))\n",
      "    NDCps.append(sol(N*DCp))\n",
      "    \n",
      "lams = np.array(lams)\n",
      "NDCps = np.array(NDCps)\n",
      "plt.plot(lams.reshape(4, Nlams).T, NDCps.reshape(4, Nlams).T, linewidth=1.5)\n",
      "plt.plot([0, 8], [16.0/27.0, 16.0/27.0], 'k')\n",
      "plt.ylim([0, 0.7])\n",
      "plt.xlabel('Tip Speed Ratio (lambda)')\n",
      "plt.ylabel('C_P')"
     ],
     "language": "python",
     "metadata": {},
     "outputs": [
      {
       "output_type": "stream",
       "stream": "stdout",
       "text": [
        "Using solver 'mosek'\n",
        "Sweeping 2 variables over 80 passes\n",
        "Solving took 4.39 seconds"
       ]
      },
      {
       "output_type": "stream",
       "stream": "stdout",
       "text": [
        "\n"
       ]
      },
      {
       "metadata": {},
       "output_type": "pyout",
       "prompt_number": 59,
       "text": [
        "<matplotlib.text.Text at 0x7f0be748df10>"
       ]
      },
      {
       "metadata": {},
       "output_type": "display_data",
       "png": "[encoded data removed]",
       "text": [
        "<matplotlib.figure.Figure at 0x7f0be75abe50>"
       ]
      }
     ],
     "prompt_number": 59
    },
    {
     "cell_type": "markdown",
     "metadata": {},
     "source": [
      "### Import CSS for nbviewer\n",
      "\n",
      "If you have a local iPython stylesheet installed, this will add it to the iPython Notebook:"
     ]
    },
    {
     "cell_type": "code",
     "collapsed": false,
     "input": [
      "from IPython import utils\n",
      "from IPython.core.display import HTML\n",
      "import os\n",
      "def css_styling():\n",
      "    \"\"\"Load default custom.css file from ipython profile\"\"\"\n",
      "    base = utils.path.get_ipython_dir()\n",
      "    styles = \"<style>\\n%s\\n</style>\" % (open(os.path.join(base,'profile_default/static/custom/custom.css'),'r').read())\n",
      "    return HTML(styles)\n",
      "css_styling()"
     ],
     "language": "python",
     "metadata": {},
     "outputs": [
      {
       "html": [
        "<style>\n",
        "@import url('http://fonts.googleapis.com/css?family=Crimson+Text');\n",
        "@import url('http://fonts.googleapis.com/css?family=Roboto');\n",
        "@import url('http://fonts.googleapis.com/css?family=Kameron');\n",
        "@import url('http://fonts.googleapis.com/css?family=Lato:200');\n",
        "@import url('http://fonts.googleapis.com/css?family=Lato:300');\n",
        "@import url('http://fonts.googleapis.com/css?family=Lato:400');\n",
        "@import url('http://fonts.googleapis.com/css?family=Source+Code+Pro');\n",
        "\n",
        "/* Change code font */\n",
        "pre {\n",
        "    font-family: 'Source Code Pro', Consolas, monocco, monospace;\n",
        "}\n",
        "\n",
        "div.input_area {\n",
        "    border-width: 0 0 0 1px;\n",
        "    border-color: rgba(0,0,0,0.10);\n",
        "    background: white;\n",
        "    border-radius: 0;\n",
        "}\n",
        "\n",
        "div.text_cell {\n",
        "    max-width: 105ex; /* instead of 100%, */\n",
        "}\n",
        "\n",
        "div.text_cell_render {\n",
        "    font-family: Roboto;\n",
        "    font-size: 12pt;\n",
        "    line-height: 145%; /* added for some line spacing of text. */\n",
        "}\n",
        "\n",
        "div.text_cell_render h1,\n",
        "div.text_cell_render h2,\n",
        "div.text_cell_render h3,\n",
        "div.text_cell_render h4,\n",
        "div.text_cell_render h5,\n",
        "div.text_cell_render h6 {\n",
        "    font-family: 'Roboto';\n",
        "}\n",
        "\n",
        "div.text_cell_render h1 {\n",
        "    font-size: 24pt;\n",
        "}\n",
        "\n",
        "div.text_cell_render h2 {\n",
        "    font-size: 18pt;\n",
        "}\n",
        "\n",
        "div.text_cell_render h3 {\n",
        "    font-size: 14pt;\n",
        "}\n",
        "\n",
        ".rendered_html pre,\n",
        ".rendered_html code {\n",
        "    font-size: medium;\n",
        "}\n",
        "\n",
        ".rendered_html ol {\n",
        "    list-style:decimal;\n",
        "    margin: 1em 2em;\n",
        "}\n",
        "\n",
        ".prompt {\n",
        "    opacity: 0.6;\n",
        "}\n",
        "\n",
        ".prompt.input_prompt {\n",
        "    color: #668;\n",
        "    font-family: 'Source Code Pro', Consolas, monocco, monospace;\n",
        "}\n",
        "\n",
        ".prompt.out_prompt_overlay {\n",
        "    font-family: 'Source Code Pro', Consolas, monocco, monospace;\n",
        "}\n",
        "\n",
        ".cell.command_mode.selected {\n",
        "    border-color: rgba(0,0,0,0.1);\n",
        "}\n",
        "\n",
        "div.cell.selected {\n",
        "    border-width: 0 0 0 1px;\n",
        "    border-color: rgba(0,0,0,0.1);\n",
        "    border-radius: 0;\n",
        "}\n",
        "\n",
        "div.output_scroll {\n",
        "    -webkit-box-shadow: inset 0 2px 8px rgba(0,0,0,0.1);\n",
        "    box-shadow: inset 0 2px 8px rgba(0,0,0,0.1);\n",
        "    border-radious: 2px;\n",
        "}\n",
        "\n",
        "#menubar .navbar-inner {\n",
        "    background: #fff;\n",
        "    -webkit-box-shadow: none;\n",
        "    box-shadow: none;\n",
        "    border-radius: 0;\n",
        "    border: none;\n",
        "    font-family: Roboto;\n",
        "    font-weight: 400;\n",
        "}\n",
        "\n",
        ".navbar-fixed-top .navbar-inner,\n",
        ".navbar-static-top .navbar-inner {\n",
        "    box-shadow: none;\n",
        "    -webkit-box-shadow: none;\n",
        "    border: none;\n",
        "}\n",
        "\n",
        "div#notebook_panel {\n",
        "    box-shadow: none;\n",
        "    -webkit-box-shadow: none;\n",
        "    border-top: none;\n",
        "}\n",
        "\n",
        "div#notebook {\n",
        "    border-top: 1px solid rgba(0,0,0,0.15);\n",
        "}\n",
        "\n",
        "#menubar .navbar .navbar-inner,\n",
        ".toolbar-inner {\n",
        "    padding-left: 0;\n",
        "    padding-right: 0;\n",
        "}\n",
        "\n",
        "#checkpoint_status,\n",
        "#autosave_status {\n",
        "    color: rgba(0,0,0,0.5);\n",
        "}\n",
        "\n",
        "#header {\n",
        "    font-family: Roboto;\n",
        "}\n",
        "\n",
        "#notebook_name {\n",
        "    font-weight: 200;\n",
        "}\n",
        "\n",
        "/*\n",
        "    This is a lazy fix, we *should* fix the\n",
        "    background for each Bootstrap button type\n",
        "*/\n",
        "#site * .btn {\n",
        "    background: #fafafa;\n",
        "    -webkit-box-shadow: none;\n",
        "    box-shadow: none;\n",
        "}\n",
        "\n",
        "</style>"
       ],
       "metadata": {},
       "output_type": "pyout",
       "prompt_number": 60,
       "text": [
        "<IPython.core.display.HTML at 0x7f0bebafbe90>"
       ]
      }
     ],
     "prompt_number": 60
    },
    {
     "cell_type": "code",
     "collapsed": false,
     "input": [],
     "language": "python",
     "metadata": {},
     "outputs": []
    }
   ],
   "metadata": {}
  }
 ]
}